{
 "cells": [
  {
   "cell_type": "code",
   "execution_count": 25,
   "metadata": {},
   "outputs": [
    {
     "ename": "FileNotFoundError",
     "evalue": "[Errno 2] No such file or directory: 'motion-and-heart-rate-from-a-wrist-worn-wearable-and-labeled-sleep-from-polysomnography-1.0.0/'",
     "output_type": "error",
     "traceback": [
      "\u001b[0;31m---------------------------------------------------------------------------\u001b[0m",
      "\u001b[0;31mFileNotFoundError\u001b[0m                         Traceback (most recent call last)",
      "\u001b[0;32m<ipython-input-25-c3dfa9211866>\u001b[0m in \u001b[0;36m<module>\u001b[0;34m\u001b[0m\n\u001b[1;32m      2\u001b[0m \u001b[0;32mimport\u001b[0m \u001b[0mos\u001b[0m\u001b[0;34m\u001b[0m\u001b[0;34m\u001b[0m\u001b[0m\n\u001b[1;32m      3\u001b[0m \u001b[0;32mimport\u001b[0m \u001b[0mnumpy\u001b[0m \u001b[0;32mas\u001b[0m \u001b[0mnp\u001b[0m\u001b[0;34m\u001b[0m\u001b[0;34m\u001b[0m\u001b[0m\n\u001b[0;32m----> 4\u001b[0;31m \u001b[0mos\u001b[0m\u001b[0;34m.\u001b[0m\u001b[0mchdir\u001b[0m\u001b[0;34m(\u001b[0m\u001b[0;34m'motion-and-heart-rate-from-a-wrist-worn-wearable-and-labeled-sleep-from-polysomnography-1.0.0/'\u001b[0m\u001b[0;34m)\u001b[0m\u001b[0;34m\u001b[0m\u001b[0;34m\u001b[0m\u001b[0m\n\u001b[0m\u001b[1;32m      5\u001b[0m \u001b[0moutput_path\u001b[0m \u001b[0;34m=\u001b[0m \u001b[0;34m'/output_data'\u001b[0m\u001b[0;34m\u001b[0m\u001b[0;34m\u001b[0m\u001b[0m\n",
      "\u001b[0;31mFileNotFoundError\u001b[0m: [Errno 2] No such file or directory: 'motion-and-heart-rate-from-a-wrist-worn-wearable-and-labeled-sleep-from-polysomnography-1.0.0/'"
     ]
    }
   ],
   "source": [
    "import pandas as pd\n",
    "import os\n",
    "import numpy as np\n",
    "os.chdir('motion-and-heart-rate-from-a-wrist-worn-wearable-and-labeled-sleep-from-polysomnography-1.0.0/')\n",
    "output_path = '/output_data'"
   ]
  },
  {
   "cell_type": "code",
   "execution_count": 26,
   "metadata": {},
   "outputs": [
    {
     "name": "stdout",
     "output_type": "stream",
     "text": [
      "['acceleration', 'steps', 'labeled_sleep', 'LICENSE.txt', 'heartrate', 'SHA256SUMS.txt']\n"
     ]
    }
   ],
   "source": [
    "files = os.listdir()\n",
    "files = [f for f in files if f != 'notebook.ipynb' and f[0] is not'.']\n",
    "print(files)"
   ]
  },
  {
   "cell_type": "code",
   "execution_count": 3,
   "metadata": {},
   "outputs": [
    {
     "name": "stdout",
     "output_type": "stream",
     "text": [
      "{'1066528', '8000685', '4018081', '5132496', '2598705', '5383425', '9961348', '3997827', '46343', '8258170', '8686948', '7749105', '1449548', '4426783', '1360686', '8530312', '844359', '5498603', '781756', '1818471', '8692923', '9618981', '8173033', '4314139', '2638030', '9106476', '759667', '5797046', '1455390', '3509524', '6220552'}\n"
     ]
    }
   ],
   "source": [
    "subjects = set([s.split(\"_\")[0] for s in os.listdir('acceleration')] +\n",
    "               [s.split(\"_\")[0] for s in os.listdir('labeled_sleep')] +\n",
    "               [s.split(\"_\")[0] for s in os.listdir('steps')] +\n",
    "               [s.split(\"_\")[0] for s in os.listdir('heartrate')])\n",
    "\n",
    "print(subjects)"
   ]
  },
  {
   "cell_type": "code",
   "execution_count": 4,
   "metadata": {},
   "outputs": [],
   "source": [
    "def get_df(sensor_type, participant):\n",
    "    file = sensor_type + \"/\" + participant + \"_\" + sensor_type + \".txt\"\n",
    "    if sensor_type == 'acceleration':\n",
    "        df = pd.read_csv(file, sep=\" \", header=None)\n",
    "        df.columns = ['timestamps', 'x', 'y', 'z']\n",
    "        df.timestamps = df.timestamps * 1e+9 + 3.154e+16\n",
    "        \n",
    "    elif sensor_type == 'labeled_sleep':\n",
    "        df = pd.read_csv(file, sep = \" \", header=None)\n",
    "        df.columns = ['label_start', 'label']\n",
    "        df = df[[\"label\", \"label_start\"]]\n",
    "        df['label_end'] = df.label_start + 30\n",
    "        df.label_start = df.label_start * 1e+9 + 3.154e+16\n",
    "        df.label_end = df.label_end * 1e+9 + 3.154e+16\n",
    "    else:\n",
    "        df = pd.read_csv(file, header=None)\n",
    "        df.columns = ['timestamps', sensor_type]\n",
    "        df.timestamps = df.timestamps * 1e+9 + 3.154e+16\n",
    "\n",
    "    df.insert(0, 'sensor_type', [sensor_type for i in range(len(df))])\n",
    "    df.insert(1, 'device_type', ['smartwatch' for i in range(len(df))])\n",
    "    return df\n"
   ]
  },
  {
   "cell_type": "code",
   "execution_count": 5,
   "metadata": {},
   "outputs": [
    {
     "data": {
      "text/html": [
       "<div>\n",
       "<style scoped>\n",
       "    .dataframe tbody tr th:only-of-type {\n",
       "        vertical-align: middle;\n",
       "    }\n",
       "\n",
       "    .dataframe tbody tr th {\n",
       "        vertical-align: top;\n",
       "    }\n",
       "\n",
       "    .dataframe thead th {\n",
       "        text-align: right;\n",
       "    }\n",
       "</style>\n",
       "<table border=\"1\" class=\"dataframe\">\n",
       "  <thead>\n",
       "    <tr style=\"text-align: right;\">\n",
       "      <th></th>\n",
       "      <th>sensor_type</th>\n",
       "      <th>device_type</th>\n",
       "      <th>timestamps</th>\n",
       "      <th>steps</th>\n",
       "    </tr>\n",
       "  </thead>\n",
       "  <tbody>\n",
       "    <tr>\n",
       "      <td>0</td>\n",
       "      <td>steps</td>\n",
       "      <td>smartwatch</td>\n",
       "      <td>3.093574e+16</td>\n",
       "      <td>0</td>\n",
       "    </tr>\n",
       "    <tr>\n",
       "      <td>1</td>\n",
       "      <td>steps</td>\n",
       "      <td>smartwatch</td>\n",
       "      <td>3.093634e+16</td>\n",
       "      <td>0</td>\n",
       "    </tr>\n",
       "    <tr>\n",
       "      <td>2</td>\n",
       "      <td>steps</td>\n",
       "      <td>smartwatch</td>\n",
       "      <td>3.093694e+16</td>\n",
       "      <td>0</td>\n",
       "    </tr>\n",
       "    <tr>\n",
       "      <td>3</td>\n",
       "      <td>steps</td>\n",
       "      <td>smartwatch</td>\n",
       "      <td>3.093754e+16</td>\n",
       "      <td>0</td>\n",
       "    </tr>\n",
       "    <tr>\n",
       "      <td>4</td>\n",
       "      <td>steps</td>\n",
       "      <td>smartwatch</td>\n",
       "      <td>3.093814e+16</td>\n",
       "      <td>0</td>\n",
       "    </tr>\n",
       "  </tbody>\n",
       "</table>\n",
       "</div>"
      ],
      "text/plain": [
       "  sensor_type device_type    timestamps  steps\n",
       "0       steps  smartwatch  3.093574e+16      0\n",
       "1       steps  smartwatch  3.093634e+16      0\n",
       "2       steps  smartwatch  3.093694e+16      0\n",
       "3       steps  smartwatch  3.093754e+16      0\n",
       "4       steps  smartwatch  3.093814e+16      0"
      ]
     },
     "execution_count": 5,
     "metadata": {},
     "output_type": "execute_result"
    }
   ],
   "source": [
    "df_heartrate = get_df('heartrate', '6220552')\n",
    "df_acceloration = get_df('acceleration', '6220552')\n",
    "df_labels = get_df('labeled_sleep', '6220552')\n",
    "df_steps = get_df('steps', \"6220552\")\n",
    "df_steps.head()"
   ]
  },
  {
   "cell_type": "code",
   "execution_count": 6,
   "metadata": {},
   "outputs": [
    {
     "data": {
      "text/plain": [
       "count    1.051000e+03\n",
       "mean     3.125074e+16\n",
       "std      1.821251e+14\n",
       "min      3.093574e+16\n",
       "25%      3.109324e+16\n",
       "50%      3.125074e+16\n",
       "75%      3.140824e+16\n",
       "max      3.156574e+16\n",
       "Name: timestamps, dtype: float64"
      ]
     },
     "execution_count": 6,
     "metadata": {},
     "output_type": "execute_result"
    }
   ],
   "source": [
    "df_steps.timestamps.describe()"
   ]
  },
  {
   "cell_type": "code",
   "execution_count": 7,
   "metadata": {},
   "outputs": [
    {
     "data": {
      "text/plain": [
       "count    1.826000e+06\n",
       "mean     3.155477e+16\n",
       "std      9.420991e+12\n",
       "min      3.151404e+16\n",
       "25%      3.154686e+16\n",
       "50%      3.155484e+16\n",
       "75%      3.156282e+16\n",
       "max      3.157080e+16\n",
       "Name: timestamps, dtype: float64"
      ]
     },
     "execution_count": 7,
     "metadata": {},
     "output_type": "execute_result"
    }
   ],
   "source": [
    "df_acceloration.timestamps.describe()"
   ]
  },
  {
   "cell_type": "code",
   "execution_count": 8,
   "metadata": {},
   "outputs": [
    {
     "data": {
      "text/plain": [
       "count    7.113000e+03\n",
       "mean     3.150666e+16\n",
       "std      1.314694e+14\n",
       "min      3.098078e+16\n",
       "25%      3.154280e+16\n",
       "50%      3.155200e+16\n",
       "75%      3.156122e+16\n",
       "max      3.157038e+16\n",
       "Name: timestamps, dtype: float64"
      ]
     },
     "execution_count": 8,
     "metadata": {},
     "output_type": "execute_result"
    }
   ],
   "source": [
    "df_heartrate.timestamps.describe()"
   ]
  },
  {
   "cell_type": "code",
   "execution_count": 9,
   "metadata": {},
   "outputs": [
    {
     "data": {
      "text/plain": [
       "count    9.820000e+02\n",
       "mean     3.155472e+16\n",
       "std      8.508698e+12\n",
       "min      3.154000e+16\n",
       "25%      3.154736e+16\n",
       "50%      3.155472e+16\n",
       "75%      3.156207e+16\n",
       "max      3.156943e+16\n",
       "Name: label_start, dtype: float64"
      ]
     },
     "execution_count": 9,
     "metadata": {},
     "output_type": "execute_result"
    }
   ],
   "source": [
    "df_labels.label_start.describe()"
   ]
  },
  {
   "cell_type": "markdown",
   "metadata": {},
   "source": [
    "## Create first part of sinus from moment particpant went to bed at the lab"
   ]
  },
  {
   "cell_type": "code",
   "execution_count": 135,
   "metadata": {},
   "outputs": [
    {
     "name": "stdout",
     "output_type": "stream",
     "text": [
      "982\n",
      "982\n",
      "982\n"
     ]
    },
    {
     "data": {
      "text/html": [
       "<div>\n",
       "<style scoped>\n",
       "    .dataframe tbody tr th:only-of-type {\n",
       "        vertical-align: middle;\n",
       "    }\n",
       "\n",
       "    .dataframe tbody tr th {\n",
       "        vertical-align: top;\n",
       "    }\n",
       "\n",
       "    .dataframe thead th {\n",
       "        text-align: right;\n",
       "    }\n",
       "</style>\n",
       "<table border=\"1\" class=\"dataframe\">\n",
       "  <thead>\n",
       "    <tr style=\"text-align: right;\">\n",
       "      <th></th>\n",
       "      <th>sensor_type</th>\n",
       "      <th>device_type</th>\n",
       "      <th>timestamps</th>\n",
       "      <th>sin_from_bedtime</th>\n",
       "    </tr>\n",
       "  </thead>\n",
       "  <tbody>\n",
       "    <tr>\n",
       "      <td>0</td>\n",
       "      <td>sin_from_bedtime</td>\n",
       "      <td>smartwatch</td>\n",
       "      <td>3.154000e+16</td>\n",
       "      <td>0.000000</td>\n",
       "    </tr>\n",
       "    <tr>\n",
       "      <td>1</td>\n",
       "      <td>sin_from_bedtime</td>\n",
       "      <td>smartwatch</td>\n",
       "      <td>3.154003e+16</td>\n",
       "      <td>0.002039</td>\n",
       "    </tr>\n",
       "    <tr>\n",
       "      <td>2</td>\n",
       "      <td>sin_from_bedtime</td>\n",
       "      <td>smartwatch</td>\n",
       "      <td>3.154006e+16</td>\n",
       "      <td>0.004077</td>\n",
       "    </tr>\n",
       "    <tr>\n",
       "      <td>3</td>\n",
       "      <td>sin_from_bedtime</td>\n",
       "      <td>smartwatch</td>\n",
       "      <td>3.154009e+16</td>\n",
       "      <td>0.006116</td>\n",
       "    </tr>\n",
       "    <tr>\n",
       "      <td>4</td>\n",
       "      <td>sin_from_bedtime</td>\n",
       "      <td>smartwatch</td>\n",
       "      <td>3.154012e+16</td>\n",
       "      <td>0.008155</td>\n",
       "    </tr>\n",
       "  </tbody>\n",
       "</table>\n",
       "</div>"
      ],
      "text/plain": [
       "        sensor_type device_type    timestamps  sin_from_bedtime\n",
       "0  sin_from_bedtime  smartwatch  3.154000e+16          0.000000\n",
       "1  sin_from_bedtime  smartwatch  3.154003e+16          0.002039\n",
       "2  sin_from_bedtime  smartwatch  3.154006e+16          0.004077\n",
       "3  sin_from_bedtime  smartwatch  3.154009e+16          0.006116\n",
       "4  sin_from_bedtime  smartwatch  3.154012e+16          0.008155"
      ]
     },
     "execution_count": 135,
     "metadata": {},
     "output_type": "execute_result"
    }
   ],
   "source": [
    "start_time = df_labels.label_start[0]\n",
    "end_time = df_labels.label_end[len(df_labels) - 1]\n",
    "step_size = (end_time - start_time) / len(df_labels)\n",
    "nr_instances = len(df_labels)\n",
    "\n",
    "sin_left = np.arange(0, 1, 1 / ((nr_instances - 1)/ 2))\n",
    "sin_right = np.flip(sin_left)\n",
    "sin_full = np.concatenate([sin_left, sin_right])\n",
    "if nr_instances % 2 != 0:\n",
    "    sin_full = sin_full[:-1]\n",
    "\n",
    "df_sin_from_bedtime = pd.DataFrame(columns = ['sensor_type', 'device_type', 'timestamps', 'sin_from_bedtime'])\n",
    "df_sin_from_bedtime.sensor_type = ['sin_from_bedtime' for i in range(nr_instances)]\n",
    "df_sin_from_bedtime.device_type = ['smartwatch' for i in range(nr_instances)]\n",
    "timestamps = np.arange(start_time, end_time, step_size)\n",
    "\n",
    "df_sin_from_bedtime.timestamps = np.arange(start_time, end_time, step_size)\n",
    "\n",
    "df_sin_from_bedtime.sin_from_bedtime = sin_full\n",
    "df_sin_from_bedtime.head()"
   ]
  },
  {
   "cell_type": "code",
   "execution_count": 137,
   "metadata": {},
   "outputs": [],
   "source": [
    "df_sin_from_bedtime.to_csv(\"../Sinus_from_bedtime.csv\", index=False)"
   ]
  },
  {
   "cell_type": "markdown",
   "metadata": {},
   "source": [
    "## Create sinus every 90 mintues from moment particpant went to bed at the lab"
   ]
  },
  {
   "cell_type": "code",
   "execution_count": 142,
   "metadata": {},
   "outputs": [],
   "source": [
    "miuntes_22half = 5.4e+12 / 4\n",
    "start_time = df_sin_from_bedtime.timestamps[0]\n",
    "instances_per_quarter = len(df_sin_from_bedtime[df_sin_from_bedtime.timestamps <= (df_sin_from_bedtime)]\n",
    "df_90_minutes_from_bedtime = df_sin_from_bedtime.copy(deep=True)\n",
    "df_90_minutes_from_bedtime.sensor_type = ['90_mintues_from_bedtime' for i in range(len(df_90_minutes_from_bedtime))]\n",
    "sin_1st_quarter = np.arange(0, 1, 1 / len(df_90_minutes_from_bedtime[df_90_minutes_from_bedtime.timestamps <= ]))\n"
   ]
  },
  {
   "cell_type": "code",
   "execution_count": 143,
   "metadata": {},
   "outputs": [
    {
     "data": {
      "text/html": [
       "<div>\n",
       "<style scoped>\n",
       "    .dataframe tbody tr th:only-of-type {\n",
       "        vertical-align: middle;\n",
       "    }\n",
       "\n",
       "    .dataframe tbody tr th {\n",
       "        vertical-align: top;\n",
       "    }\n",
       "\n",
       "    .dataframe thead th {\n",
       "        text-align: right;\n",
       "    }\n",
       "</style>\n",
       "<table border=\"1\" class=\"dataframe\">\n",
       "  <thead>\n",
       "    <tr style=\"text-align: right;\">\n",
       "      <th></th>\n",
       "      <th>sensor_type</th>\n",
       "      <th>device_type</th>\n",
       "      <th>timestamps</th>\n",
       "      <th>sin_from_bedtime</th>\n",
       "    </tr>\n",
       "  </thead>\n",
       "  <tbody>\n",
       "    <tr>\n",
       "      <td>0</td>\n",
       "      <td>90_mintues_from_bedtime</td>\n",
       "      <td>smartwatch</td>\n",
       "      <td>3.154000e+16</td>\n",
       "      <td>0.000000</td>\n",
       "    </tr>\n",
       "    <tr>\n",
       "      <td>1</td>\n",
       "      <td>90_mintues_from_bedtime</td>\n",
       "      <td>smartwatch</td>\n",
       "      <td>3.154003e+16</td>\n",
       "      <td>0.002039</td>\n",
       "    </tr>\n",
       "    <tr>\n",
       "      <td>2</td>\n",
       "      <td>90_mintues_from_bedtime</td>\n",
       "      <td>smartwatch</td>\n",
       "      <td>3.154006e+16</td>\n",
       "      <td>0.004077</td>\n",
       "    </tr>\n",
       "    <tr>\n",
       "      <td>3</td>\n",
       "      <td>90_mintues_from_bedtime</td>\n",
       "      <td>smartwatch</td>\n",
       "      <td>3.154009e+16</td>\n",
       "      <td>0.006116</td>\n",
       "    </tr>\n",
       "    <tr>\n",
       "      <td>4</td>\n",
       "      <td>90_mintues_from_bedtime</td>\n",
       "      <td>smartwatch</td>\n",
       "      <td>3.154012e+16</td>\n",
       "      <td>0.008155</td>\n",
       "    </tr>\n",
       "  </tbody>\n",
       "</table>\n",
       "</div>"
      ],
      "text/plain": [
       "               sensor_type device_type    timestamps  sin_from_bedtime\n",
       "0  90_mintues_from_bedtime  smartwatch  3.154000e+16          0.000000\n",
       "1  90_mintues_from_bedtime  smartwatch  3.154003e+16          0.002039\n",
       "2  90_mintues_from_bedtime  smartwatch  3.154006e+16          0.004077\n",
       "3  90_mintues_from_bedtime  smartwatch  3.154009e+16          0.006116\n",
       "4  90_mintues_from_bedtime  smartwatch  3.154012e+16          0.008155"
      ]
     },
     "execution_count": 143,
     "metadata": {},
     "output_type": "execute_result"
    }
   ],
   "source": [
    "df_90_minutes_from_bedtime.head()"
   ]
  },
  {
   "cell_type": "code",
   "execution_count": null,
   "metadata": {},
   "outputs": [],
   "source": []
  }
 ],
 "metadata": {
  "kernelspec": {
   "display_name": "Python 3",
   "language": "python",
   "name": "python3"
  },
  "language_info": {
   "codemirror_mode": {
    "name": "ipython",
    "version": 3
   },
   "file_extension": ".py",
   "mimetype": "text/x-python",
   "name": "python",
   "nbconvert_exporter": "python",
   "pygments_lexer": "ipython3",
   "version": "3.7.4"
  }
 },
 "nbformat": 4,
 "nbformat_minor": 2
}

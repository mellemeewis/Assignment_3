{
 "cells": [
  {
   "cell_type": "code",
   "execution_count": null,
   "metadata": {},
   "outputs": [],
   "source": [
    "import pandas as pd\n",
    "import os\n",
    "os.chdir('motion-and-heart-rate-from-a-wrist-worn-wearable-and-labeled-sleep-from-polysomnography-1.0.0/')\n",
    "output_path = '/output_data'"
   ]
  },
  {
   "cell_type": "code",
   "execution_count": null,
   "metadata": {},
   "outputs": [],
   "source": [
    "files = os.listdir()\n",
    "files = [f for f in files if f != 'notebook.ipynb' and f[0] is not'.']\n",
    "print(files)"
   ]
  },
  {
   "cell_type": "code",
   "execution_count": null,
   "metadata": {},
   "outputs": [],
   "source": [
    "subjects = set([s.split(\"_\")[0] for s in os.listdir('acceleration')] +\n",
    "               [s.split(\"_\")[0] for s in os.listdir('labeled_sleep')] +\n",
    "               [s.split(\"_\")[0] for s in os.listdir('steps')] +\n",
    "               [s.split(\"_\")[0] for s in os.listdir('heartrate')])\n",
    "\n",
    "print(subjects)"
   ]
  },
  {
   "cell_type": "code",
   "execution_count": null,
   "metadata": {},
   "outputs": [],
   "source": [
    "def get_df(sensor_type, participant):\n",
    "    file = sensor_type + \"/\" + participant + \"_\" + sensor_type + \".txt\"\n",
    "    if sensor_type == 'acceleration':\n",
    "        df = pd.read_csv(file, sep=\" \", header=None)\n",
    "        df.columns = ['timestamps', 'x', 'y', 'z']\n",
    "        df.timestamps = df.timestamps * 1e+9 + 3.154e+16\n",
    "        \n",
    "    elif sensor_type == 'labeled_sleep':\n",
    "        df = pd.read_csv(file, sep = \" \", header=None)\n",
    "        df.columns = ['label_start', 'label']\n",
    "        df = df[[\"label\", \"label_start\"]]\n",
    "        df['label_end'] = df.label_start + 30\n",
    "        df.label_start = df.label_start * 1e+9 + 3.154e+16\n",
    "        df.label_end = df.label_end * 1e+9 + 3.154e+16\n",
    "    else:\n",
    "        df = pd.read_csv(file, header=None)\n",
    "        df.columns = ['timestamps', sensor_type]\n",
    "        df.timestamps = df.timestamps * 1e+9 + 3.154e+16\n",
    "\n",
    "    df.insert(0, 'sensor_type', [sensor_type for i in range(len(df))])\n",
    "    df.insert(1, 'device_type', ['smartwatch' for i in range(len(df))])\n",
    "    return df\n"
   ]
  },
  {
   "cell_type": "code",
   "execution_count": null,
   "metadata": {},
   "outputs": [],
   "source": [
    "df_heartrate = get_df('heartrate', '6220552')\n",
    "df_acceloration = get_df('acceleration', '6220552')\n",
    "df_labels = get_df('labeled_sleep', '6220552')\n",
    "df_steps = get_df('steps', \"6220552\")\n",
    "df_steps.head()"
   ]
  },
  {
   "cell_type": "code",
   "execution_count": null,
   "metadata": {},
   "outputs": [],
   "source": [
    "df_steps.timestamps.describe()"
   ]
  },
  {
   "cell_type": "code",
   "execution_count": null,
   "metadata": {},
   "outputs": [],
   "source": [
    "df_acceloration.timestamps.describe()"
   ]
  },
  {
   "cell_type": "code",
   "execution_count": null,
   "metadata": {},
   "outputs": [],
   "source": [
    "df_heartrate.timestamps.describe()"
   ]
  },
  {
   "cell_type": "code",
   "execution_count": null,
   "metadata": {},
   "outputs": [],
   "source": [
    "df_labels.label_start.describe()"
   ]
  },
  {
   "cell_type": "code",
   "execution_count": null,
   "metadata": {},
   "outputs": [],
   "source": []
  }
 ],
 "metadata": {
  "kernelspec": {
   "display_name": "Python 3",
   "language": "python",
   "name": "python3"
  },
  "language_info": {
   "codemirror_mode": {
    "name": "ipython",
    "version": 3
   },
   "file_extension": ".py",
   "mimetype": "text/x-python",
   "name": "python",
   "nbconvert_exporter": "python",
   "pygments_lexer": "ipython3",
   "version": "3.7.4"
  }
 },
 "nbformat": 4,
 "nbformat_minor": 2
}

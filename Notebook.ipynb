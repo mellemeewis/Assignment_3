{
 "cells": [
  {
   "cell_type": "code",
   "execution_count": 1,
   "metadata": {},
   "outputs": [],
   "source": [
    "import pandas as pd\n",
    "import os\n",
    "os.chdir('motion-and-heart-rate-from-a-wrist-worn-wearable-and-labeled-sleep-from-polysomnography-1.0.0/')"
   ]
  },
  {
   "cell_type": "code",
   "execution_count": 37,
   "metadata": {},
   "outputs": [
    {
     "name": "stdout",
     "output_type": "stream",
     "text": [
      "['acceleration', 'steps', 'labeled_sleep', 'LICENSE.txt', 'heartrate', 'SHA256SUMS.txt']\n"
     ]
    }
   ],
   "source": [
    "files = os.listdir()\n",
    "files = [f for f in files if f != 'notebook.ipynb' and f[0] is not'.']\n",
    "print(files)"
   ]
  },
  {
   "cell_type": "code",
   "execution_count": 42,
   "metadata": {},
   "outputs": [
    {
     "name": "stdout",
     "output_type": "stream",
     "text": [
      "{'6220552', '1066528', '1818471', '781756', '8686948', '844359', '3509524', '8173033', '2638030', '1360686', '5797046', '4018081', '2598705', '7749105', '5498603', '8258170', '5383425', '759667', '4426783', '1449548', '5132496', '9961348', '3997827', '9106476', '8692923', '46343', '8000685', '4314139', '8530312', '9618981', '1455390'}\n"
     ]
    }
   ],
   "source": [
    "subjects = set([s.split(\"_\")[0] for s in os.listdir('acceleration')] +\n",
    "               [s.split(\"_\")[0] for s in os.listdir('labeled_sleep')] +\n",
    "               [s.split(\"_\")[0] for s in os.listdir('steps')] +\n",
    "               [s.split(\"_\")[0] for s in os.listdir('heartrate')])\n",
    "\n",
    "print(subjects)"
   ]
  },
  {
   "cell_type": "code",
   "execution_count": 60,
   "metadata": {},
   "outputs": [],
   "source": [
    "def get_df(sensor_type, participant):\n",
    "    file = sensor_type + \"/\" + participant + \"_\" + sensor_type + \".txt\"\n",
    "    if sensor_type == 'acceleration':\n",
    "        df = pd.read_csv(file, sep=\" \", header=None)\n",
    "        df.columns = ['timestamps', 'x', 'y', 'z']\n",
    "        df.timestamps = df.timestamps * 1e+9 + 3.154e+16\n",
    "        \n",
    "    elif sensor_type == 'labeled_sleep':\n",
    "        df = pd.read_csv(file, sep = \" \", header=None)\n",
    "        df.columns = ['label_start', 'label']\n",
    "        df = df[[\"label\", \"label_start\"]]\n",
    "        df['label_end'] = df.label_start + 30\n",
    "        df.label_start = df.label_start * 1e+9 + 3.154e+16\n",
    "        df.label_end = df.label_end * 1e+9 + 3.154e+16\n",
    "    else:\n",
    "        df = pd.read_csv(file, header=None)\n",
    "        df.columns = ['timestamps', sensor_type]\n",
    "        df.timestamps = df.timestamps * 1e+9 + 3.154e+16\n",
    "\n",
    "    df.insert(0, 'sensor_type', [sensor_type for i in range(len(df))])\n",
    "    df.insert(1, 'device_type', ['smartwatch' for i in range(len(df))])\n",
    "    return df\n"
   ]
  },
  {
   "cell_type": "code",
   "execution_count": 62,
   "metadata": {},
   "outputs": [
    {
     "data": {
      "text/html": [
       "<div>\n",
       "<style scoped>\n",
       "    .dataframe tbody tr th:only-of-type {\n",
       "        vertical-align: middle;\n",
       "    }\n",
       "\n",
       "    .dataframe tbody tr th {\n",
       "        vertical-align: top;\n",
       "    }\n",
       "\n",
       "    .dataframe thead th {\n",
       "        text-align: right;\n",
       "    }\n",
       "</style>\n",
       "<table border=\"1\" class=\"dataframe\">\n",
       "  <thead>\n",
       "    <tr style=\"text-align: right;\">\n",
       "      <th></th>\n",
       "      <th>sensor_type</th>\n",
       "      <th>device_type</th>\n",
       "      <th>timestamps</th>\n",
       "      <th>steps</th>\n",
       "    </tr>\n",
       "  </thead>\n",
       "  <tbody>\n",
       "    <tr>\n",
       "      <td>0</td>\n",
       "      <td>steps</td>\n",
       "      <td>smartwatch</td>\n",
       "      <td>3.093574e+16</td>\n",
       "      <td>0</td>\n",
       "    </tr>\n",
       "    <tr>\n",
       "      <td>1</td>\n",
       "      <td>steps</td>\n",
       "      <td>smartwatch</td>\n",
       "      <td>3.093634e+16</td>\n",
       "      <td>0</td>\n",
       "    </tr>\n",
       "    <tr>\n",
       "      <td>2</td>\n",
       "      <td>steps</td>\n",
       "      <td>smartwatch</td>\n",
       "      <td>3.093694e+16</td>\n",
       "      <td>0</td>\n",
       "    </tr>\n",
       "    <tr>\n",
       "      <td>3</td>\n",
       "      <td>steps</td>\n",
       "      <td>smartwatch</td>\n",
       "      <td>3.093754e+16</td>\n",
       "      <td>0</td>\n",
       "    </tr>\n",
       "    <tr>\n",
       "      <td>4</td>\n",
       "      <td>steps</td>\n",
       "      <td>smartwatch</td>\n",
       "      <td>3.093814e+16</td>\n",
       "      <td>0</td>\n",
       "    </tr>\n",
       "  </tbody>\n",
       "</table>\n",
       "</div>"
      ],
      "text/plain": [
       "  sensor_type device_type    timestamps  steps\n",
       "0       steps  smartwatch  3.093574e+16      0\n",
       "1       steps  smartwatch  3.093634e+16      0\n",
       "2       steps  smartwatch  3.093694e+16      0\n",
       "3       steps  smartwatch  3.093754e+16      0\n",
       "4       steps  smartwatch  3.093814e+16      0"
      ]
     },
     "execution_count": 62,
     "metadata": {},
     "output_type": "execute_result"
    }
   ],
   "source": [
    "df_heartrate = get_df('heartrate', '6220552')\n",
    "df_acceloration = get_df('acceleration', '6220552')\n",
    "df_labels = get_df('labeled_sleep', '6220552')\n",
    "df_steps = get_df('steps', \"6220552\")\n",
    "df_steps.head()"
   ]
  },
  {
   "cell_type": "code",
   "execution_count": 66,
   "metadata": {},
   "outputs": [
    {
     "data": {
      "text/plain": [
       "count    1.051000e+03\n",
       "mean     3.125074e+16\n",
       "std      1.821251e+14\n",
       "min      3.093574e+16\n",
       "25%      3.109324e+16\n",
       "50%      3.125074e+16\n",
       "75%      3.140824e+16\n",
       "max      3.156574e+16\n",
       "Name: timestamps, dtype: float64"
      ]
     },
     "execution_count": 66,
     "metadata": {},
     "output_type": "execute_result"
    }
   ],
   "source": [
    "df_steps.timestamps.describe()"
   ]
  },
  {
   "cell_type": "code",
   "execution_count": 48,
   "metadata": {},
   "outputs": [
    {
     "data": {
      "text/plain": [
       "count    1.826000e+06\n",
       "mean     3.155477e+16\n",
       "std      9.420991e+12\n",
       "min      3.151404e+16\n",
       "25%      3.154686e+16\n",
       "50%      3.155484e+16\n",
       "75%      3.156282e+16\n",
       "max      3.157080e+16\n",
       "Name: timestamps, dtype: float64"
      ]
     },
     "execution_count": 48,
     "metadata": {},
     "output_type": "execute_result"
    }
   ],
   "source": [
    "df_acceloration.timestamps.describe()"
   ]
  },
  {
   "cell_type": "code",
   "execution_count": 49,
   "metadata": {},
   "outputs": [
    {
     "data": {
      "text/plain": [
       "count    7.113000e+03\n",
       "mean     3.150666e+16\n",
       "std      1.314694e+14\n",
       "min      3.098078e+16\n",
       "25%      3.154280e+16\n",
       "50%      3.155200e+16\n",
       "75%      3.156122e+16\n",
       "max      3.157038e+16\n",
       "Name: timestamps, dtype: float64"
      ]
     },
     "execution_count": 49,
     "metadata": {},
     "output_type": "execute_result"
    }
   ],
   "source": [
    "df_heartrate.timestamps.describe()"
   ]
  },
  {
   "cell_type": "code",
   "execution_count": 51,
   "metadata": {},
   "outputs": [
    {
     "data": {
      "text/plain": [
       "count    9.820000e+02\n",
       "mean     3.155472e+16\n",
       "std      8.508698e+12\n",
       "min      3.154000e+16\n",
       "25%      3.154736e+16\n",
       "50%      3.155472e+16\n",
       "75%      3.156207e+16\n",
       "max      3.156943e+16\n",
       "Name: label_start, dtype: float64"
      ]
     },
     "execution_count": 51,
     "metadata": {},
     "output_type": "execute_result"
    }
   ],
   "source": [
    "df_labels.label_start.describe()"
   ]
  },
  {
   "cell_type": "code",
   "execution_count": null,
   "metadata": {},
   "outputs": [],
   "source": []
  }
 ],
 "metadata": {
  "kernelspec": {
   "display_name": "Python 3",
   "language": "python",
   "name": "python3"
  },
  "language_info": {
   "codemirror_mode": {
    "name": "ipython",
    "version": 3
   },
   "file_extension": ".py",
   "mimetype": "text/x-python",
   "name": "python",
   "nbconvert_exporter": "python",
   "pygments_lexer": "ipython3",
   "version": "3.7.4"
  }
 },
 "nbformat": 4,
 "nbformat_minor": 2
}
